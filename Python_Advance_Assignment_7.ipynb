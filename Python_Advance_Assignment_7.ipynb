{
  "nbformat": 4,
  "nbformat_minor": 0,
  "metadata": {
    "colab": {
      "name": "Python_Advance_Assignment_7.ipynb",
      "provenance": []
    },
    "kernelspec": {
      "name": "python3",
      "display_name": "Python 3"
    },
    "language_info": {
      "name": "python"
    }
  },
  "cells": [
    {
      "cell_type": "markdown",
      "source": [
        "Q1). What is the purpose of the try statement?\n",
        "\n",
        "Ans) The try statement allows you to define a block of code to be tested for errors while it is being executed"
      ],
      "metadata": {
        "id": "r5j29QzoUvnb"
      }
    },
    {
      "cell_type": "markdown",
      "source": [
        "Q2). What are the two most popular try statement variations?\n",
        "\n",
        "Ans) Syntax errors and Exceptions"
      ],
      "metadata": {
        "id": "1BeAL0LfUvkB"
      }
    },
    {
      "cell_type": "markdown",
      "source": [
        "Q3). What is the purpose of the raise statement?\n",
        "\n",
        "Ans) The raise keyword is used to raise an exception. "
      ],
      "metadata": {
        "id": "z0-7Yyz2UvhT"
      }
    },
    {
      "cell_type": "markdown",
      "source": [
        "Q4). What does the assert statement do, and what other statement is it like?\n",
        "\n",
        "Ans) Assert statement is used to check types, values of argument and the output of the function"
      ],
      "metadata": {
        "id": "rAvMORafUvef"
      }
    },
    {
      "cell_type": "markdown",
      "source": [
        "Q5). What is the purpose of the with/as argument, and what other statement is it like?\n",
        "\n",
        "Ans) The with statement in Python is used for resource management and exception handling."
      ],
      "metadata": {
        "id": "Z9Ox9x-0Uvb1"
      }
    },
    {
      "cell_type": "code",
      "execution_count": null,
      "metadata": {
        "id": "oqfoe8VbUjvU"
      },
      "outputs": [],
      "source": [
        ""
      ]
    }
  ]
}